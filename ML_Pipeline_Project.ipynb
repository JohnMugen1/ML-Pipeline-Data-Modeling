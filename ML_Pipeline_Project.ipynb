{
 "cells": [
  {
   "cell_type": "code",
   "execution_count": null,
   "id": "98024045-9bde-41e1-9adc-12dc346b08bb",
   "metadata": {},
   "outputs": [],
   "source": [
    "# Import necessary libraries\n",
    "import pandas as pd\n",
    "from sklearn.model_selection import train_test_split\n",
    "from sklearn.preprocessing import StandardScaler, LabelEncoder\n",
    "from sklearn.linear_model import LogisticRegression\n",
    "from sklearn.tree import DecisionTreeClassifier\n",
    "from sklearn.metrics import accuracy_score, precision_score, recall_score, f1_score\n",
    "\n",
    "# Step 1: Get Data\n",
    "# Load the dataset \n",
    "data = pd.read_csv('telco_customer_churn.csv')\n",
    "\n",
    "# Step 2: Data Splitting\n",
    "# Separate features and target variable\n",
    "X = data.drop('Churn', axis=1)  # Assuming 'Churn' is the target column\n",
    "y = data['Churn']\n",
    "\n",
    "# Split data into training and testing sets\n",
    "X_train, X_test, y_train, y_test = train_test_split(X, y, test_size=0.2, random_state=42)\n",
    "\n",
    "# Step 3: Clean Data\n",
    "# Encode categorical variables\n",
    "for column in X_train.select_dtypes(include=['object']).columns:\n",
    "    encoder = LabelEncoder()\n",
    "    X_train[column] = encoder.fit_transform(X_train[column])\n",
    "    X_test[column] = encoder.transform(X_test[column])\n",
    "\n",
    "# Scale numerical features\n",
    "scaler = StandardScaler()\n",
    "X_train = scaler.fit_transform(X_train)\n",
    "X_test = scaler.transform(X_test)\n",
    "\n",
    "# Step 4: Choose a Model (Example: Decision Tree)\n",
    "model = DecisionTreeClassifier(random_state=42)\n",
    "\n",
    "# Step 5: Train the Model\n",
    "model.fit(X_train, y_train)\n",
    "\n",
    "# Step 6: Make Predictions\n",
    "y_pred = model.predict(X_test)\n",
    "\n",
    "# Step 7: Evaluate the Model\n",
    "accuracy = accuracy_score(y_test, y_pred)\n",
    "precision = precision_score(y_test, y_pred, pos_label='Yes')\n",
    "recall = recall_score(y_test, y_pred, pos_label='Yes')\n",
    "f1 = f1_score(y_test, y_pred, pos_label='Yes')\n",
    "\n",
    "print(f\"Accuracy: {accuracy:.2f}\")\n",
    "print(f\"Precision: {precision:.2f}\")\n",
    "print(f\"Recall: {recall:.2f}\")\n",
    "print(f\"F1 Score: {f1:.2f}\")\n"
   ]
  }
 ],
 "metadata": {
  "kernelspec": {
   "display_name": "Python 3 (ipykernel)",
   "language": "python",
   "name": "python3"
  },
  "language_info": {
   "codemirror_mode": {
    "name": "ipython",
    "version": 3
   },
   "file_extension": ".py",
   "mimetype": "text/x-python",
   "name": "python",
   "nbconvert_exporter": "python",
   "pygments_lexer": "ipython3",
   "version": "3.12.4"
  }
 },
 "nbformat": 4,
 "nbformat_minor": 5
}
